{
  "nbformat": 4,
  "nbformat_minor": 0,
  "metadata": {
    "colab": {
      "name": "DEA_New analysis_2013+2019.ipynb",
      "provenance": [],
      "authorship_tag": "ABX9TyOrT1ipxXNp7Kdfa/UvxDKZ",
      "include_colab_link": true
    },
    "kernelspec": {
      "name": "python3",
      "display_name": "Python 3"
    }
  },
  "cells": [
    {
      "cell_type": "markdown",
      "metadata": {
        "id": "view-in-github",
        "colab_type": "text"
      },
      "source": [
        "<a href=\"https://colab.research.google.com/github/zhuhaoyu838/Coursera-ML-AndrewNg-Notes/blob/master/DEA_New_analysis_2013%2B2019.ipynb\" target=\"_parent\"><img src=\"https://colab.research.google.com/assets/colab-badge.svg\" alt=\"Open In Colab\"/></a>"
      ]
    },
    {
      "cell_type": "code",
      "metadata": {
        "id": "S5fbjlmtxU7j",
        "colab_type": "code",
        "colab": {}
      },
      "source": [
        "import pandas as pd\n",
        "from pandas import DataFrame\n",
        "import numpy as np\n",
        "import cvxpy as cp"
      ],
      "execution_count": 1,
      "outputs": []
    },
    {
      "cell_type": "code",
      "metadata": {
        "id": "aPAYCbSKxbfu",
        "colab_type": "code",
        "colab": {
          "base_uri": "https://localhost:8080/",
          "height": 127
        },
        "outputId": "d2207890-7c38-479e-ee28-3d642f3c0eb2"
      },
      "source": [
        "from google.colab import drive \n",
        "drive.mount(\"/content/gdrive\")"
      ],
      "execution_count": 2,
      "outputs": [
        {
          "output_type": "stream",
          "text": [
            "Go to this URL in a browser: https://accounts.google.com/o/oauth2/auth?client_id=947318989803-6bn6qk8qdgf4n4g3pfee6491hc0brc4i.apps.googleusercontent.com&redirect_uri=urn%3aietf%3awg%3aoauth%3a2.0%3aoob&scope=email%20https%3a%2f%2fwww.googleapis.com%2fauth%2fdocs.test%20https%3a%2f%2fwww.googleapis.com%2fauth%2fdrive%20https%3a%2f%2fwww.googleapis.com%2fauth%2fdrive.photos.readonly%20https%3a%2f%2fwww.googleapis.com%2fauth%2fpeopleapi.readonly&response_type=code\n",
            "\n",
            "Enter your authorization code:\n",
            "··········\n",
            "Mounted at /content/gdrive\n"
          ],
          "name": "stdout"
        }
      ]
    },
    {
      "cell_type": "code",
      "metadata": {
        "id": "Oe_zQ0goxlyc",
        "colab_type": "code",
        "colab": {
          "base_uri": "https://localhost:8080/",
          "height": 317
        },
        "outputId": "998df566-baac-45f2-a96f-4287327e8c6f"
      },
      "source": [
        "path_total = \"/content/gdrive/My Drive/연구실 과제/DEA/작업/\" \n",
        "df_original = pd.read_csv(path_total + \"DEA_New analysis_2013.csv\")\n",
        "df_original"
      ],
      "execution_count": 4,
      "outputs": [
        {
          "output_type": "execute_result",
          "data": {
            "text/html": [
              "<div>\n",
              "<style scoped>\n",
              "    .dataframe tbody tr th:only-of-type {\n",
              "        vertical-align: middle;\n",
              "    }\n",
              "\n",
              "    .dataframe tbody tr th {\n",
              "        vertical-align: top;\n",
              "    }\n",
              "\n",
              "    .dataframe thead th {\n",
              "        text-align: right;\n",
              "    }\n",
              "</style>\n",
              "<table border=\"1\" class=\"dataframe\">\n",
              "  <thead>\n",
              "    <tr style=\"text-align: right;\">\n",
              "      <th></th>\n",
              "      <th>Shipyard</th>\n",
              "      <th>신조선건조량</th>\n",
              "      <th>신조선수주량</th>\n",
              "      <th>Leadership and strategy</th>\n",
              "      <th>Product development</th>\n",
              "      <th>Production planning</th>\n",
              "      <th>Process management</th>\n",
              "      <th>Quality management</th>\n",
              "      <th>Facility management</th>\n",
              "      <th>Logistics operation</th>\n",
              "      <th>Information system</th>\n",
              "      <th>Production automation</th>\n",
              "      <th>Performance measurement</th>\n",
              "    </tr>\n",
              "  </thead>\n",
              "  <tbody>\n",
              "    <tr>\n",
              "      <th>0</th>\n",
              "      <td>Heavy1(현대)</td>\n",
              "      <td>2285407</td>\n",
              "      <td>3796732</td>\n",
              "      <td>3.8</td>\n",
              "      <td>3.6</td>\n",
              "      <td>2.9</td>\n",
              "      <td>2.6</td>\n",
              "      <td>2.7</td>\n",
              "      <td>2.5</td>\n",
              "      <td>2.9</td>\n",
              "      <td>3.4</td>\n",
              "      <td>2.5</td>\n",
              "      <td>3.3</td>\n",
              "    </tr>\n",
              "    <tr>\n",
              "      <th>1</th>\n",
              "      <td>Heavy2(대우)</td>\n",
              "      <td>1962833</td>\n",
              "      <td>2185690</td>\n",
              "      <td>4.1</td>\n",
              "      <td>3.8</td>\n",
              "      <td>3.4</td>\n",
              "      <td>3.4</td>\n",
              "      <td>2.7</td>\n",
              "      <td>3.5</td>\n",
              "      <td>3.1</td>\n",
              "      <td>3.8</td>\n",
              "      <td>2.6</td>\n",
              "      <td>3.7</td>\n",
              "    </tr>\n",
              "    <tr>\n",
              "      <th>2</th>\n",
              "      <td>Heavy3(삼성)</td>\n",
              "      <td>2223367</td>\n",
              "      <td>2177099</td>\n",
              "      <td>3.0</td>\n",
              "      <td>3.4</td>\n",
              "      <td>3.0</td>\n",
              "      <td>3.0</td>\n",
              "      <td>3.0</td>\n",
              "      <td>2.9</td>\n",
              "      <td>2.6</td>\n",
              "      <td>3.6</td>\n",
              "      <td>3.1</td>\n",
              "      <td>3.4</td>\n",
              "    </tr>\n",
              "    <tr>\n",
              "      <th>3</th>\n",
              "      <td>Heavy4(현대삼호)</td>\n",
              "      <td>1490889</td>\n",
              "      <td>2274300</td>\n",
              "      <td>3.3</td>\n",
              "      <td>3.8</td>\n",
              "      <td>3.0</td>\n",
              "      <td>2.7</td>\n",
              "      <td>2.7</td>\n",
              "      <td>2.5</td>\n",
              "      <td>3.1</td>\n",
              "      <td>3.2</td>\n",
              "      <td>2.4</td>\n",
              "      <td>3.4</td>\n",
              "    </tr>\n",
              "    <tr>\n",
              "      <th>4</th>\n",
              "      <td>Heavy5(현대미포)</td>\n",
              "      <td>1151286</td>\n",
              "      <td>2386167</td>\n",
              "      <td>3.4</td>\n",
              "      <td>3.4</td>\n",
              "      <td>3.3</td>\n",
              "      <td>3.0</td>\n",
              "      <td>2.7</td>\n",
              "      <td>2.8</td>\n",
              "      <td>2.5</td>\n",
              "      <td>3.2</td>\n",
              "      <td>2.2</td>\n",
              "      <td>3.4</td>\n",
              "    </tr>\n",
              "    <tr>\n",
              "      <th>5</th>\n",
              "      <td>Middle1(STX)</td>\n",
              "      <td>688199</td>\n",
              "      <td>462924</td>\n",
              "      <td>2.9</td>\n",
              "      <td>3.1</td>\n",
              "      <td>3.1</td>\n",
              "      <td>2.8</td>\n",
              "      <td>2.8</td>\n",
              "      <td>2.3</td>\n",
              "      <td>2.6</td>\n",
              "      <td>3.3</td>\n",
              "      <td>1.7</td>\n",
              "      <td>2.9</td>\n",
              "    </tr>\n",
              "    <tr>\n",
              "      <th>6</th>\n",
              "      <td>Middle2(대선)</td>\n",
              "      <td>167301</td>\n",
              "      <td>83184</td>\n",
              "      <td>2.5</td>\n",
              "      <td>2.5</td>\n",
              "      <td>2.4</td>\n",
              "      <td>2.6</td>\n",
              "      <td>2.0</td>\n",
              "      <td>1.9</td>\n",
              "      <td>2.0</td>\n",
              "      <td>2.5</td>\n",
              "      <td>1.2</td>\n",
              "      <td>2.6</td>\n",
              "    </tr>\n",
              "  </tbody>\n",
              "</table>\n",
              "</div>"
            ],
            "text/plain": [
              "       Shipyard  신조선건조량   ...  Production automation  Performance measurement\n",
              "0    Heavy1(현대)  2285407  ...                    2.5                      3.3\n",
              "1    Heavy2(대우)  1962833  ...                    2.6                      3.7\n",
              "2    Heavy3(삼성)  2223367  ...                    3.1                      3.4\n",
              "3  Heavy4(현대삼호)  1490889  ...                    2.4                      3.4\n",
              "4  Heavy5(현대미포)  1151286  ...                    2.2                      3.4\n",
              "5  Middle1(STX)   688199  ...                    1.7                      2.9\n",
              "6   Middle2(대선)   167301  ...                    1.2                      2.6\n",
              "\n",
              "[7 rows x 13 columns]"
            ]
          },
          "metadata": {
            "tags": []
          },
          "execution_count": 4
        }
      ]
    },
    {
      "cell_type": "code",
      "metadata": {
        "id": "VvQVsfaUxr0m",
        "colab_type": "code",
        "colab": {
          "base_uri": "https://localhost:8080/",
          "height": 78
        },
        "outputId": "b556535f-3c7e-44e5-f6a6-2326677a9790"
      },
      "source": [
        "class DEA():\n",
        "\n",
        "    def __init__(self,csv_name):\n",
        "        df_original = pd.read_csv(csv_name)\n",
        "        self.df = df_original[['Shipyard', '신조선건조량 ',\n",
        "                               '신조선수주량','Leadership and strategy',\n",
        "                               'Product development','Production planning',\n",
        "                               'Process management','Quality management',\n",
        "                               'Facility management','Logistics operation',\n",
        "                               'Information system','Production automation','Performance measurement']]\n",
        "        self.df_list = (self.df).values\n",
        "        self.dmu_value = []\n",
        "\n",
        "    def DMU_caculate(self):\n",
        "        j = 1\n",
        "        z = self.df\n",
        "        x = self.df_list\n",
        "        v1 = cp.Variable()\n",
        "        v2 = cp.Variable()\n",
        "        v3 = cp.Variable()\n",
        "        v4 = cp.Variable()\n",
        "        v5 = cp.Variable()\n",
        "        v6 = cp.Variable()\n",
        "        v7 = cp.Variable()\n",
        "        v8 = cp.Variable()\n",
        "        v9 = cp.Variable()\n",
        "        v10 = cp.Variable()\n",
        "        u1 = cp.Variable()\n",
        "        u2 = cp.Variable()\n",
        "        for i in range (len(z.index)):\n",
        "            constraints = [x[i, j] * u1 + x[i, j+1] * u2 == 1,\n",
        "                           u1 >= 0,\n",
        "                           u2 >= 0,\n",
        "                           v1 >= 0,\n",
        "                           v2 >= 0,\n",
        "                           v3 >= 0,\n",
        "                           v4 >= 0,\n",
        "                           v5 >= 0,\n",
        "                           v6 >= 0,\n",
        "                           v7 >= 0,\n",
        "                           v8 >= 0,\n",
        "                           v9 >= 0,\n",
        "                           v10 >= 0]\n",
        "            for k in range(len(z.index)):\n",
        "                constraints.append(x[k, j] * u1 + x[k, j+1] * u2\n",
        "                                   - x[k, j+2] * v1\n",
        "                                   - x[k, j+3] * v2\n",
        "                                   - x[k, j+4] * v3\n",
        "                                   - x[k, j+5] * v4\n",
        "                                   - x[k, j + 6] * v5\n",
        "                                   - x[k, j+7] * v6\n",
        "                                   - x[k, j+8] * v7\n",
        "                                   - x[k, j+9] * v8\n",
        "                                   - x[k, j+10] * v9\n",
        "                                   - x[k, j+11] * v10 <= 0)\n",
        "\n",
        "            m = x[i, j + 2] * v1 + x[i, j + 3] * v2 + x[i, j + 4] * v3 + x[i, j + 5] * v4 + x[i, j + 6] * v5 + \\\n",
        "                x[i, j + 7] * v6 + x[i, j + 8] * v7 + x[i, j + 9] * v8 + x[i, j + 10] * v9 + x[i, j + 11] * v10\n",
        "            obj = cp.Minimize(m)\n",
        "            prob = cp.Problem(obj, constraints)\n",
        "            prob.solve()\n",
        "            self.dmu_value.append(m.value)\n",
        "        return self.dmu_value\n",
        "\n",
        "    def DMU_Efficiency_caculate(self):\n",
        "        e = []\n",
        "        for s in range(len(self.dmu_value)):\n",
        "            f = 1 / self.dmu_value[s]\n",
        "            e.append(f)\n",
        "        return e\n",
        "\n",
        "\n",
        "n = DEA(\"/content/gdrive/My Drive/연구실 과제/DEA/작업/\" +\"DEA_New analysis_2013.csv\" )\n",
        "\n",
        "print(n.DMU_caculate())\n",
        "\n",
        "print(n.DMU_Efficiency_caculate())"
      ],
      "execution_count": 7,
      "outputs": [
        {
          "output_type": "stream",
          "text": [
            "[0.999999993409125, 1.164341030417321, 0.9999999990460179, 1.3831329096211369, 1.3716746526452022, 2.258178996570145, 6.557016093704239]\n",
            "[1.000000006590875, 0.8588549006484654, 1.0000000009539822, 0.7229963173054111, 0.7290358526867525, 0.4428346918109055, 0.15250839493289584]\n"
          ],
          "name": "stdout"
        }
      ]
    },
    {
      "cell_type": "code",
      "metadata": {
        "id": "wkB9j60eykvv",
        "colab_type": "code",
        "colab": {
          "base_uri": "https://localhost:8080/",
          "height": 78
        },
        "outputId": "97276995-9b51-44d6-e31c-ed1445d6e57a"
      },
      "source": [
        "n = DEA(\"/content/gdrive/My Drive/연구실 과제/DEA/작업/\" +\"DEA_New analysis_2019.csv\" )\n",
        "\n",
        "print(n.DMU_caculate())\n",
        "\n",
        "print(n.DMU_Efficiency_caculate())"
      ],
      "execution_count": 8,
      "outputs": [
        {
          "output_type": "stream",
          "text": [
            "[0.9999999697650862, 0.9999999420849947, 0.9999999949737683, 1.2430645560708071, 1.5842607523741645, 12.60784286532678]\n",
            "[1.0000000302349148, 1.0000000579150088, 1.0000000050262317, 0.8044634489144249, 0.631209223924411, 0.07931570933122359]\n"
          ],
          "name": "stdout"
        }
      ]
    }
  ]
}